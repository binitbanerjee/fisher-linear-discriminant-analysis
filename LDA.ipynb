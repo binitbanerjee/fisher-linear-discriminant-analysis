{
 "cells": [
  {
   "cell_type": "code",
   "execution_count": 41,
   "metadata": {},
   "outputs": [
    {
     "name": "stdout",
     "output_type": "stream",
     "text": [
      "Data for:  setosa\n",
      "Class1 mean 1545.630039136859  Class 2 mean 5706.297202878874\n",
      "The threshold value is :  3625.963621007866\n",
      "Error percentage :  0.0\n",
      "Data for:  versicolor\n",
      "Class1 mean 0.834266562220282  Class 2 mean 1.0381483291032922\n",
      "The threshold value is :  0.936207445661787\n",
      "Error percentage :  38.0\n",
      "Data for:  virginica\n",
      "Class1 mean -6.658995079769214  Class 2 mean -3.461431415486316\n",
      "The threshold value is :  -5.0602132476277655\n",
      "Error percentage :  18.000000000000004\n"
     ]
    },
    {
     "data": {
      "image/png": "[encoded data removed]",
      "text/plain": [
       "<Figure size 360x360 with 1 Axes>"
      ]
     },
     "metadata": {
      "needs_background": "light"
     },
     "output_type": "display_data"
    },
    {
     "data": {
      "image/png": "[encoded data removed]",
      "text/plain": [
       "<Figure size 360x360 with 1 Axes>"
      ]
     },
     "metadata": {
      "needs_background": "light"
     },
     "output_type": "display_data"
    },
    {
     "data": {
      "image/png": "[encoded data removed]",
      "text/plain": [
       "<Figure size 360x360 with 1 Axes>"
      ]
     },
     "metadata": {
      "needs_background": "light"
     },
     "output_type": "display_data"
    }
   ],
   "source": [
    "import pandas as pd\n",
    "import numpy as np\n",
    "import numpy.linalg as ln\n",
    "import math\n",
    "%matplotlib inline\n",
    "import matplotlib\n",
    "import matplotlib.pyplot as plt\n",
    "fname = 'iris.csv'\n",
    "\n",
    "def plot_(name):\n",
    "    print(\"Data for: \",name)\n",
    "    label = []\n",
    "    s = name\n",
    "    df = pd.read_csv(fname)\n",
    "    train = []\n",
    "    for row in df.values:\n",
    "        temp_row = []\n",
    "        for item in row:\n",
    "            if(type(item)==type('str')and item==s):\n",
    "                temp_row.append(1.0)\n",
    "            elif(type(item)==type('str') and item!=s):\n",
    "                temp_row.append(-1.0)\n",
    "            else:\n",
    "                temp_row.append(item)\n",
    "        train.append(temp_row)\n",
    "    x = np.array(train)\n",
    "    c1 = x[np.where(x[:,4]==1.)]\n",
    "    c2 = x[np.where(x[:,4]==-1.)]\n",
    "    mean = []\n",
    "    mean.append(np.mean(c1[:,:4],axis=0))\n",
    "    mean.append(np.mean(c2[:,:4],axis=0))\n",
    "    overall_mean = (np.mean(x[:,:4],axis=0))\n",
    "    sb  = np.outer((mean[1]-mean[0]),(mean[1]-mean[0]))\n",
    "    sw = np.zeros((sb.shape[0],sb.shape[0]))\n",
    "    def calculate_sw(c_data,s_w,mean):\n",
    "        for row in c_data:\n",
    "            x = row[:4]\n",
    "            temp = np.outer(x-mean,x-mean)\n",
    "            s_w = s_w+temp\n",
    "            return s_w\n",
    "    sw = calculate_sw(c1,sw,mean[0])\n",
    "    sw = calculate_sw(c2,sw,mean[1])\n",
    "    mat = np.dot(np.linalg.pinv(sw), sb)\n",
    "    eigvals, eigvecs = np.linalg.eig(mat)\n",
    "    eiglist = [(eigvals[i], eigvecs[:, i]) for i in range(len(eigvals))]\n",
    "    eiglist = sorted(eiglist, key = lambda x : x[0], reverse = True)\n",
    "    w = np.dot(np.linalg.pinv(sw), ((mean[1]-mean[0])))\n",
    "    m1 = 0\n",
    "    m2 =0\n",
    "    data_plot = []\n",
    "    x = []\n",
    "    c = 0\n",
    "    color = []\n",
    "    c1_predict = []\n",
    "    c2_predict = []\n",
    "    for i in range(c1.shape[0]):\n",
    "        temp = np.dot(c1[i,:4],w) \n",
    "        m1 += temp\n",
    "        data_plot.append([temp])\n",
    "        c +=1\n",
    "        x.append(c)\n",
    "        color.append('red')\n",
    "    m1 = m1/50\n",
    "    for i in range(c2.shape[0]):\n",
    "        temp = np.dot(c2[i,:4],w)\n",
    "        m2 +=temp\n",
    "        data_plot.append([temp])\n",
    "        c +=1\n",
    "        x.append(c)\n",
    "        color.append('blue')\n",
    "\n",
    "    m2 = m2/100\n",
    "    isLess = True\n",
    "    if(m1>=m2):\n",
    "        isLess = False\n",
    "    fm = (m1+m2)/2\n",
    "    for i in data_plot:\n",
    "        if not isLess:\n",
    "            if(i[0]>=fm):\n",
    "                i.append(1)\n",
    "            else:\n",
    "                i.append(-1)\n",
    "        else:\n",
    "            if(i[0]<fm):\n",
    "                i.append(1)\n",
    "            else:\n",
    "                i.append(-1)\n",
    "    count = 0\n",
    "    for i in range(50):\n",
    "        if(c1[i,4]==data_plot[i][1]):\n",
    "            count +=1\n",
    "    for i in range(100):\n",
    "        if(c2[i,4]==data_plot[50+i][1]):\n",
    "            count +=1\n",
    "\n",
    "    x1 = []\n",
    "    for i in data_plot[:]:\n",
    "        x1.append(i[0])\n",
    "    xy_line = (0, 150)\n",
    "    f,a = plt.subplots(figsize=(5,5))\n",
    "    #a.scatter(x1,x,color=color)\n",
    "    a.scatter(x1,np.zeros(len(x1)),color=color)\n",
    "    #a.plot((fm,fm),xy_line, 'g--')\n",
    "    plt.tight_layout()\n",
    "    print(\"Class1 mean\",m1,\" Class 2 mean\",m2)\n",
    "    print(\"The threshold value is : \",fm)\n",
    "    print(\"Error percentage : \",str((1-(count/150))*100))\n",
    "plot_('setosa')\n",
    "plot_('versicolor')\n",
    "plot_('virginica')"
   ]
  },
  {
   "cell_type": "code",
   "execution_count": null,
   "metadata": {},
   "outputs": [],
   "source": []
  }
 ],
 "metadata": {
  "kernelspec": {
   "display_name": "Python 3",
   "language": "python",
   "name": "python3"
  },
  "language_info": {
   "codemirror_mode": {
    "name": "ipython",
    "version": 3
   },
   "file_extension": ".py",
   "mimetype": "text/x-python",
   "name": "python",
   "nbconvert_exporter": "python",
   "pygments_lexer": "ipython3",
   "version": "3.7.1"
  }
 },
 "nbformat": 4,
 "nbformat_minor": 2
}
